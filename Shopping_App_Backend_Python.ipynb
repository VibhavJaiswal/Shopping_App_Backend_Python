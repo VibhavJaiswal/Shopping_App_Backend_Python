{
 "cells": [
  {
   "cell_type": "markdown",
   "id": "2c619891",
   "metadata": {},
   "source": [
    "# Phase-End Project: Creating a Shopping App Using Python"
   ]
  },
  {
   "cell_type": "markdown",
   "id": "0a3bfb27",
   "metadata": {},
   "source": [
    "## Problem Scenario: You have to develop a shopping application or e-commerce application which has login and public login features on the Python platform. The applications that have been developed should also include categories, such as 3–4 for footwear, clothing, electronics, etc. It should be possible to add and update categories in the application. Additionally, it must contain a feature that allows you to add or remove items from your cart. Finally, the program needs to support a variety of payment options, including UPI and debit cards. This should be only backend implementation, and UX/UI and database connectivity are not required."
   ]
  },
  {
   "cell_type": "markdown",
   "id": "6188f878",
   "metadata": {},
   "source": [
    "### Step 1: Welcome Message Function"
   ]
  },
  {
   "cell_type": "code",
   "execution_count": 1,
   "id": "b6546eff",
   "metadata": {},
   "outputs": [
    {
     "name": "stdout",
     "output_type": "stream",
     "text": [
      "Welcome to the Demo Marketplace\n"
     ]
    }
   ],
   "source": [
    "def welcome_message():\n",
    "    print(\"Welcome to the Demo Marketplace\")\n",
    "\n",
    "# Test the function\n",
    "welcome_message()"
   ]
  },
  {
   "cell_type": "markdown",
   "id": "5b175699",
   "metadata": {},
   "source": [
    "### Step 2: Demo Databases for Users and Admins"
   ]
  },
  {
   "cell_type": "code",
   "execution_count": 2,
   "id": "a183fb13",
   "metadata": {},
   "outputs": [
    {
     "name": "stdout",
     "output_type": "stream",
     "text": [
      "User DB: {'user1': 'password1'}\n",
      "Admin DB: {'admin': 'adminpassword'}\n"
     ]
    }
   ],
   "source": [
    "def initialize_user_db():\n",
    "    return {'user1': 'password1'}\n",
    "\n",
    "def initialize_admin_db():\n",
    "    return {'admin': 'adminpassword'}\n",
    "\n",
    "# Initialize databases\n",
    "user_db = initialize_user_db()\n",
    "admin_db = initialize_admin_db()\n",
    "\n",
    "# Test the initialization\n",
    "print(\"User DB:\", user_db)\n",
    "print(\"Admin DB:\", admin_db)"
   ]
  },
  {
   "cell_type": "markdown",
   "id": "58ff017d",
   "metadata": {},
   "source": [
    "### Step 3: Session ID Creation Function"
   ]
  },
  {
   "cell_type": "code",
   "execution_count": 3,
   "id": "b85b3085",
   "metadata": {},
   "outputs": [
    {
     "name": "stdout",
     "output_type": "stream",
     "text": [
      "Generated Session ID: a41747e7-ba33-43cb-9e65-efd1a127f3c9\n"
     ]
    }
   ],
   "source": [
    "import uuid\n",
    "\n",
    "def generate_session_id():\n",
    "    return str(uuid.uuid4())\n",
    "\n",
    "# Test the function\n",
    "session_id = generate_session_id()\n",
    "print(\"Generated Session ID:\", session_id)"
   ]
  },
  {
   "cell_type": "markdown",
   "id": "f5b6a802",
   "metadata": {},
   "source": [
    "### Step 4: Enhanced Login Function"
   ]
  },
  {
   "cell_type": "code",
   "execution_count": 4,
   "id": "f00fb347",
   "metadata": {},
   "outputs": [
    {
     "name": "stdout",
     "output_type": "stream",
     "text": [
      "User Login: True\n",
      "Admin Login: True\n",
      "Invalid Login: False\n"
     ]
    }
   ],
   "source": [
    "def login(username, password, role, user_db, admin_db):\n",
    "    if role == 'user':\n",
    "        return user_db.get(username) == password\n",
    "    elif role == 'admin':\n",
    "        return admin_db.get(username) == password\n",
    "    else:\n",
    "        return False\n",
    "\n",
    "# Test the function\n",
    "print(\"User Login:\", login('user1', 'password1', 'user', user_db, admin_db))\n",
    "print(\"Admin Login:\", login('admin', 'adminpassword', 'admin', user_db, admin_db))\n",
    "print(\"Invalid Login:\", login('user1', 'wrongpassword', 'user', user_db, admin_db))"
   ]
  },
  {
   "cell_type": "markdown",
   "id": "ec321a0b",
   "metadata": {},
   "source": [
    "### Step 5: Product Catalog Initialization"
   ]
  },
  {
   "cell_type": "code",
   "execution_count": 5,
   "id": "aa301b7f",
   "metadata": {},
   "outputs": [
    {
     "name": "stdout",
     "output_type": "stream",
     "text": [
      "Categories: {1: 'Boots', 2: 'Coats', 3: 'Jackets', 4: 'Caps'}\n",
      "Products: {101: {'name': 'Winter Boots', 'category_id': 1, 'price': 120.0}, 102: {'name': 'Rain Boots', 'category_id': 1, 'price': 85.5}, 201: {'name': 'Leather Coat', 'category_id': 2, 'price': 250.0}, 202: {'name': 'Denim Coat', 'category_id': 2, 'price': 175.0}, 301: {'name': 'Bomber Jacket', 'category_id': 3, 'price': 200.0}, 302: {'name': 'Windbreaker Jacket', 'category_id': 3, 'price': 99.99}, 401: {'name': 'Baseball Cap', 'category_id': 4, 'price': 25.0}, 402: {'name': 'Beanie', 'category_id': 4, 'price': 15.0}}\n"
     ]
    }
   ],
   "source": [
    "def initialize_product_catalog():\n",
    "    categories = {\n",
    "        1: 'Boots',\n",
    "        2: 'Coats',\n",
    "        3: 'Jackets',\n",
    "        4: 'Caps'\n",
    "    }\n",
    "\n",
    "    products = {\n",
    "        101: {'name': 'Winter Boots', 'category_id': 1, 'price': 120.00},\n",
    "        102: {'name': 'Rain Boots', 'category_id': 1, 'price': 85.50},\n",
    "        201: {'name': 'Leather Coat', 'category_id': 2, 'price': 250.00},\n",
    "        202: {'name': 'Denim Coat', 'category_id': 2, 'price': 175.00},\n",
    "        301: {'name': 'Bomber Jacket', 'category_id': 3, 'price': 200.00},\n",
    "        302: {'name': 'Windbreaker Jacket', 'category_id': 3, 'price': 99.99},\n",
    "        401: {'name': 'Baseball Cap', 'category_id': 4, 'price': 25.00},\n",
    "        402: {'name': 'Beanie', 'category_id': 4, 'price': 15.00},\n",
    "    }\n",
    "\n",
    "    return categories, products\n",
    "\n",
    "# Initialize product catalog\n",
    "categories, products = initialize_product_catalog()\n",
    "\n",
    "# Test the initialization\n",
    "print(\"Categories:\", categories)\n",
    "print(\"Products:\", products)"
   ]
  },
  {
   "cell_type": "markdown",
   "id": "7d0b5192",
   "metadata": {},
   "source": [
    "### Step 6: View Product Catalog"
   ]
  },
  {
   "cell_type": "code",
   "execution_count": 6,
   "id": "16f07df9",
   "metadata": {},
   "outputs": [
    {
     "name": "stdout",
     "output_type": "stream",
     "text": [
      "Product Catalog:\n",
      "ID: 101, Name: Winter Boots, Category: Boots, Price: 120.0\n",
      "ID: 102, Name: Rain Boots, Category: Boots, Price: 85.5\n",
      "ID: 201, Name: Leather Coat, Category: Coats, Price: 250.0\n",
      "ID: 202, Name: Denim Coat, Category: Coats, Price: 175.0\n",
      "ID: 301, Name: Bomber Jacket, Category: Jackets, Price: 200.0\n",
      "ID: 302, Name: Windbreaker Jacket, Category: Jackets, Price: 99.99\n",
      "ID: 401, Name: Baseball Cap, Category: Caps, Price: 25.0\n",
      "ID: 402, Name: Beanie, Category: Caps, Price: 15.0\n"
     ]
    }
   ],
   "source": [
    "def view_catalog(categories, products):\n",
    "    print(\"Product Catalog:\")\n",
    "    for product_id, details in products.items():\n",
    "        category_name = categories[details['category_id']]\n",
    "        print(f\"ID: {product_id}, Name: {details['name']}, Category: {category_name}, Price: {details['price']}\")\n",
    "\n",
    "# Test the function\n",
    "view_catalog(categories, products)"
   ]
  },
  {
   "cell_type": "markdown",
   "id": "a6daaf7d",
   "metadata": {},
   "source": [
    "### Step 7: Cart Management Functions"
   ]
  },
  {
   "cell_type": "code",
   "execution_count": 7,
   "id": "25f995f3",
   "metadata": {},
   "outputs": [
    {
     "name": "stdout",
     "output_type": "stream",
     "text": [
      "Cart contents:\n",
      "Product ID: 101, Name: Winter Boots, Quantity: 2, Price per unit: 120.0, Total Price: 240.0\n",
      "Product ID: 202, Name: Denim Coat, Quantity: 1, Price per unit: 175.0, Total Price: 175.0\n",
      "Cart contents:\n",
      "Product ID: 101, Name: Winter Boots, Quantity: 1, Price per unit: 120.0, Total Price: 120.0\n",
      "Product ID: 202, Name: Denim Coat, Quantity: 1, Price per unit: 175.0, Total Price: 175.0\n",
      "Cart contents:\n",
      "Product ID: 101, Name: Winter Boots, Quantity: 1, Price per unit: 120.0, Total Price: 120.0\n"
     ]
    }
   ],
   "source": [
    "def initialize_cart():\n",
    "    return {}\n",
    "\n",
    "def add_to_cart(cart, product_id, quantity, products):\n",
    "    if product_id in products:\n",
    "        if product_id in cart:\n",
    "            cart[product_id] += quantity\n",
    "        else:\n",
    "            cart[product_id] = quantity\n",
    "    else:\n",
    "        print(\"Error: Invalid product ID\")\n",
    "\n",
    "def remove_from_cart(cart, product_id, quantity):\n",
    "    if product_id in cart:\n",
    "        if cart[product_id] > quantity:\n",
    "            cart[product_id] -= quantity\n",
    "        elif cart[product_id] == quantity:\n",
    "            del cart[product_id]\n",
    "        else:\n",
    "            print(\"Error: Quantity to remove exceeds quantity in cart\")\n",
    "    else:\n",
    "        print(\"Error: Product not in cart\")\n",
    "\n",
    "def view_cart(cart, products):\n",
    "    print(\"Cart contents:\")\n",
    "    if not cart:\n",
    "        print(\"Cart is empty\")\n",
    "    else:\n",
    "        for product_id, quantity in cart.items():\n",
    "            product_details = products[product_id]\n",
    "            print(f\"Product ID: {product_id}, Name: {product_details['name']}, Quantity: {quantity}, Price per unit: {product_details['price']}, Total Price: {product_details['price'] * quantity}\")\n",
    "\n",
    "# Initialize and test cart functions\n",
    "cart = initialize_cart()\n",
    "add_to_cart(cart, 101, 2, products)\n",
    "add_to_cart(cart, 202, 1, products)\n",
    "view_cart(cart, products)\n",
    "remove_from_cart(cart, 101, 1)\n",
    "view_cart(cart, products)\n",
    "remove_from_cart(cart, 202, 1)\n",
    "view_cart(cart, products)"
   ]
  },
  {
   "cell_type": "markdown",
   "id": "3891b7b5",
   "metadata": {},
   "source": [
    "### Step 8: Checkout Function"
   ]
  },
  {
   "cell_type": "code",
   "execution_count": 8,
   "id": "7f8054c9",
   "metadata": {},
   "outputs": [
    {
     "name": "stdout",
     "output_type": "stream",
     "text": [
      "\n",
      "Select a payment method:\n",
      "1. Net banking\n",
      "2. PayPal\n",
      "3. UPI\n"
     ]
    },
    {
     "name": "stdin",
     "output_type": "stream",
     "text": [
      "Enter the number corresponding to your payment method:  1\n"
     ]
    },
    {
     "name": "stdout",
     "output_type": "stream",
     "text": [
      "Your order is successfully placed. You will be shortly redirected to the Net Banking portal to make a payment of Rs. 120.0.\n"
     ]
    }
   ],
   "source": [
    "def checkout(cart, products):\n",
    "    if not cart:\n",
    "        print(\"Your cart is empty. Please add items to your cart before checking out.\")\n",
    "        return\n",
    "    \n",
    "    total_amount = sum(products[product_id]['price'] * quantity for product_id, quantity in cart.items())\n",
    "    \n",
    "    print(\"\\nSelect a payment method:\")\n",
    "    print(\"1. Net banking\")\n",
    "    print(\"2. PayPal\")\n",
    "    print(\"3. UPI\")\n",
    "    \n",
    "    payment_method = input(\"Enter the number corresponding to your payment method: \")\n",
    "    \n",
    "    if payment_method == '1':\n",
    "        print(f\"Your order is successfully placed. You will be shortly redirected to the Net Banking portal to make a payment of Rs. {total_amount}.\")\n",
    "    elif payment_method == '2':\n",
    "        print(f\"Your order is successfully placed. You will be shortly redirected to PayPal to make a payment of Rs. {total_amount}.\")\n",
    "    elif payment_method == '3':\n",
    "        print(f\"Your order is successfully placed. You will be shortly redirected to the portal for Unified Payment Interface to make a payment of Rs. {total_amount}.\")\n",
    "    else:\n",
    "        print(\"Invalid payment method selected. Please try again.\")\n",
    "\n",
    "# Test the checkout function\n",
    "checkout(cart, products)"
   ]
  },
  {
   "cell_type": "markdown",
   "id": "16e8a1e9",
   "metadata": {},
   "source": [
    "### Step 9: Admin-Specific Functions"
   ]
  },
  {
   "cell_type": "code",
   "execution_count": 9,
   "id": "f166b025",
   "metadata": {},
   "outputs": [],
   "source": [
    "def add_product(products, categories):\n",
    "    product_id = int(input(\"Enter new product ID: \"))\n",
    "    name = input(\"Enter new product name: \")\n",
    "    category_id = int(input(f\"Enter category ID from the following options: {list(categories.keys())}: \"))\n",
    "    price = float(input(\"Enter new product price: \"))\n",
    "\n",
    "    if category_id in categories:\n",
    "        products[product_id] = {'name': name, 'category_id': category_id, 'price': price}\n",
    "        print(f\"Product {name} added successfully.\")\n",
    "    else:\n",
    "        print(\"Invalid category ID. Product not added.\")\n",
    "\n",
    "def modify_product(products, categories):\n",
    "    product_id = int(input(\"Enter the product ID to modify: \"))\n",
    "    if product_id in products:\n",
    "        name = input(f\"Enter new name for product ID {product_id} (current: {products[product_id]['name']}): \")\n",
    "        category_id = int(input(f\"Enter new category ID from the following options {list(categories.keys())} (current: {products[product_id]['category_id']}): \"))\n",
    "        price = float(input(f\"Enter new price for product ID {product_id} (current: {products[product_id]['price']}): \"))\n",
    "\n",
    "        if category_id in categories:\n",
    "            products[product_id] = {'name': name, 'category_id': category_id, 'price': price}\n",
    "            print(f\"Product ID {product_id} modified successfully.\")\n",
    "        else:\n",
    "            print(\"Invalid category ID. Product not modified.\")\n",
    "    else:\n",
    "        print(\"Product ID not found.\")\n",
    "\n",
    "def remove_product(products):\n",
    "    product_id = int(input(\"Enter the product ID to remove: \"))\n",
    "    if product_id in products:\n",
    "        del products[product_id]\n",
    "        print(f\"Product ID {product_id} removed successfully.\")\n",
    "    else:\n",
    "        print(\"Product ID not found.\")\n",
    "\n",
    "def add_category(categories):\n",
    "    category_id = int(input(\"Enter new category ID: \"))\n",
    "    name = input(\"Enter new category name: \")\n",
    "    categories[category_id] = name\n",
    "    print(f\"Category {name} added successfully.\")\n",
    "\n",
    "def delete_category(categories):\n",
    "    category_id = int(input(\"Enter the category ID to remove: \"))\n",
    "    if category_id in categories:\n",
    "        del categories[category_id]\n",
    "        print(f\"Category ID {category_id} removed successfully.\")\n",
    "    else:\n",
    "        print(\"Category ID not found.\")\n",
    "\n",
    "# # Test admin functions\n",
    "# print(\"Initial Products:\", products)\n",
    "# add_product(products, categories)\n",
    "# print(\"Products after addition:\", products)\n",
    "# modify_product(products, categories)\n",
    "# print(\"Products after modification:\", products)\n",
    "# remove_product(products)\n",
    "# print(\"Products after removal:\", products)\n",
    "# print(\"Initial Categories:\", categories)\n",
    "# add_category(categories)\n",
    "# print(\"Categories after addition:\", categories)\n",
    "# delete_category(categories)\n",
    "# print(\"Categories after deletion:\", categories)"
   ]
  },
  {
   "cell_type": "markdown",
   "id": "ab3b1ce7",
   "metadata": {},
   "source": [
    "### Step 10: Admin Menu Function"
   ]
  },
  {
   "cell_type": "code",
   "execution_count": 10,
   "id": "71e913ba",
   "metadata": {},
   "outputs": [],
   "source": [
    "def admin_menu(categories, products):\n",
    "    while True:\n",
    "        print(\"\\nAdmin Options: view_catalog, add_product, modify_product, remove_product, add_category, delete_category, logout\")\n",
    "        option = input(\"Enter an option: \")\n",
    "        if option == \"view_catalog\":\n",
    "            view_catalog(categories, products)\n",
    "        elif option == \"add_product\":\n",
    "            add_product(products, categories)\n",
    "        elif option == \"modify_product\":\n",
    "            modify_product(products, categories)\n",
    "        elif option == \"remove_product\":\n",
    "            remove_product(products)\n",
    "        elif option == \"add_category\":\n",
    "            add_category(categories)\n",
    "        elif option == \"delete_category\":\n",
    "            delete_category(categories)\n",
    "        elif option == \"logout\":\n",
    "            print(\"Admin logged out.\")\n",
    "            break\n",
    "        else:\n",
    "            print(\"Invalid option. Please try again.\")\n",
    "\n",
    "# Test the admin menu (uncomment to run)\n",
    "# admin_menu(categories, products)"
   ]
  },
  {
   "cell_type": "code",
   "execution_count": 11,
   "id": "0307fc69",
   "metadata": {},
   "outputs": [
    {
     "name": "stdout",
     "output_type": "stream",
     "text": [
      "Logging out...\n"
     ]
    }
   ],
   "source": [
    "def user_logout():\n",
    "    print(\"Logging out...\")\n",
    "\n",
    "# Test user logout\n",
    "user_logout()\n"
   ]
  },
  {
   "cell_type": "markdown",
   "id": "0f6cc45a",
   "metadata": {},
   "source": [
    "### Step 11: Main Function"
   ]
  },
  {
   "cell_type": "code",
   "execution_count": 12,
   "id": "d95e10fe",
   "metadata": {},
   "outputs": [
    {
     "name": "stdout",
     "output_type": "stream",
     "text": [
      "Welcome to the Demo Marketplace\n",
      "\n",
      "Login\n"
     ]
    },
    {
     "name": "stdin",
     "output_type": "stream",
     "text": [
      "Username:  user1\n",
      "Password:  password1\n",
      "Role (user/admin):  user\n"
     ]
    },
    {
     "name": "stdout",
     "output_type": "stream",
     "text": [
      "User logged in. Session ID: 988f9b7d-2767-496b-85fb-67ae8c70f8ec\n",
      "\n",
      "User Options: view_catalog, add_to_cart, view_cart, checkout, logout\n"
     ]
    },
    {
     "name": "stdin",
     "output_type": "stream",
     "text": [
      "Enter an option:  view_catalog\n"
     ]
    },
    {
     "name": "stdout",
     "output_type": "stream",
     "text": [
      "Product Catalog:\n",
      "ID: 101, Name: Winter Boots, Category: Boots, Price: 120.0\n",
      "ID: 102, Name: Rain Boots, Category: Boots, Price: 85.5\n",
      "ID: 201, Name: Leather Coat, Category: Coats, Price: 250.0\n",
      "ID: 202, Name: Denim Coat, Category: Coats, Price: 175.0\n",
      "ID: 301, Name: Bomber Jacket, Category: Jackets, Price: 200.0\n",
      "ID: 302, Name: Windbreaker Jacket, Category: Jackets, Price: 99.99\n",
      "ID: 401, Name: Baseball Cap, Category: Caps, Price: 25.0\n",
      "ID: 402, Name: Beanie, Category: Caps, Price: 15.0\n",
      "\n",
      "User Options: view_catalog, add_to_cart, view_cart, checkout, logout\n"
     ]
    },
    {
     "name": "stdin",
     "output_type": "stream",
     "text": [
      "Enter an option:  logout\n"
     ]
    },
    {
     "name": "stdout",
     "output_type": "stream",
     "text": [
      "Logging out...\n",
      "Logging out...\n"
     ]
    }
   ],
   "source": [
    "def main():\n",
    "    welcome_message()\n",
    "    \n",
    "    user_db = initialize_user_db()\n",
    "    admin_db = initialize_admin_db()\n",
    "    \n",
    "    categories, products = initialize_product_catalog()\n",
    "    \n",
    "    while True:\n",
    "        print(\"\\nLogin\")\n",
    "        username = input(\"Username: \")\n",
    "        password = input(\"Password: \")\n",
    "        role = input(\"Role (user/admin): \")\n",
    "        \n",
    "        if role == 'user' and login(username, password, role, user_db, admin_db):\n",
    "            user_session_id = generate_session_id()\n",
    "            print(f\"User logged in. Session ID: {user_session_id}\")\n",
    "            cart = initialize_cart()\n",
    "            \n",
    "            while True:\n",
    "                print(\"\\nUser Options: view_catalog, add_to_cart, view_cart, checkout, logout\")\n",
    "                option = input(\"Enter an option: \")\n",
    "                if option == \"view_catalog\":\n",
    "                    view_catalog(categories, products)\n",
    "                elif option == \"add_to_cart\":\n",
    "                    product_id = int(input(\"Enter product ID to add to cart: \"))\n",
    "                    quantity = int(input(\"Enter quantity: \"))\n",
    "                    add_to_cart(cart, product_id, quantity, products)\n",
    "                elif option == \"view_cart\":\n",
    "                    view_cart(cart, products)\n",
    "                elif option == \"checkout\":\n",
    "                    checkout(cart, products)\n",
    "                elif option == \"logout\":\n",
    "                    print(\"Logging out...\")\n",
    "                    user_logout()\n",
    "                    user_session_id = None\n",
    "                    return  # Terminate the program after user logs out\n",
    "                else:\n",
    "                    print(\"Invalid option. Please try again.\")\n",
    "        elif role == 'admin' and login(username, password, role, user_db, admin_db):\n",
    "            admin_session_id = generate_session_id()\n",
    "            print(f\"Admin logged in. Session ID: {admin_session_id}\")\n",
    "            admin_menu(categories, products)\n",
    "            print(\"Logging out...\")\n",
    "            admin_session_id = None\n",
    "            return  # Terminate the program after admin logs out\n",
    "        else:\n",
    "            print(\"Invalid credentials. Please try again.\")\n",
    "\n",
    "# Run the main function\n",
    "main()\n"
   ]
  },
  {
   "cell_type": "code",
   "execution_count": null,
   "id": "0aeaa9f2",
   "metadata": {},
   "outputs": [],
   "source": []
  }
 ],
 "metadata": {
  "kernelspec": {
   "display_name": "Python 3 (ipykernel)",
   "language": "python",
   "name": "python3"
  },
  "language_info": {
   "codemirror_mode": {
    "name": "ipython",
    "version": 3
   },
   "file_extension": ".py",
   "mimetype": "text/x-python",
   "name": "python",
   "nbconvert_exporter": "python",
   "pygments_lexer": "ipython3",
   "version": "3.12.4"
  }
 },
 "nbformat": 4,
 "nbformat_minor": 5
}
